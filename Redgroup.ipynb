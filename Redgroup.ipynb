{
 "cells": [
  {
   "cell_type": "markdown",
   "id": "672757b6-1d75-45d6-8430-f36adcd3da49",
   "metadata": {
    "tags": []
   },
   "source": [
    "#### Red Group (Fai Slavianto and Rani Adikarjo) in class exercise \n",
    "\n",
    "1. Write a function that takes a list of numbers and returns the maximum value.\n",
    "2. Once you define the function, test to see wheter it works\n"
   ]
  },
  {
   "cell_type": "code",
   "execution_count": 5,
   "id": "7d0feddd-29af-42a3-bd5a-9d32190bf7e1",
   "metadata": {
    "tags": []
   },
   "outputs": [
    {
     "name": "stdout",
     "output_type": "stream",
     "text": [
      "12\n",
      "-2\n"
     ]
    }
   ],
   "source": [
    "def get_max(a_list):\n",
    "    max_el = a_list[0]  # assume the first element is the max\n",
    "    for i in range(1, len(a_list)):  # start loop from second element\n",
    "        previous_el = a_list[i-1] \n",
    "        current_el = a_list[i]\n",
    "        if previous_el >= current_el:\n",
    "            max_el = previous_el\n",
    "        else:\n",
    "            max_el = current_el\n",
    "    return max_el\n",
    "\n",
    "a_list = [2, 4, 6, 8, 10, 12]\n",
    "print(get_max(a_list))  \n",
    "\n",
    "a_list = [-5, -3, -7, -2]\n",
    "print(get_max(a_list))\n"
   ]
  },
  {
   "cell_type": "markdown",
   "id": "cab701da-b60b-44f7-9600-ff747cea056c",
   "metadata": {},
   "source": [
    "#### Explanation \n",
    "1. We start the loop from the second element of the list and assume the first element as the maximum element.\n",
    "2. We check each element against its previous element and update the maximum element accordingly.\n",
    "3. We return the maximum element after the loop complete from the function return_max"
   ]
  },
  {
   "cell_type": "code",
   "execution_count": 6,
   "id": "ef0b3d5e-05a9-4e70-a9a7-80b98f99e12b",
   "metadata": {
    "tags": []
   },
   "outputs": [
    {
     "name": "stdout",
     "output_type": "stream",
     "text": [
      "12\n",
      "-2\n"
     ]
    }
   ],
   "source": [
    "def get_max(a_list):\n",
    "    max_el = float('-inf')  # initialize to negative infinity\n",
    "\n",
    "    for el in a_list:\n",
    "        if el > max_el:\n",
    "            max_el = el\n",
    "\n",
    "    return max_el\n",
    "\n",
    "a_list = [2, 4, 6, 8, 10, 12]\n",
    "print(get_max(a_list))  \n",
    "\n",
    "a_list = [-5, -3, -7, -2]\n",
    "print(get_max(a_list))\n"
   ]
  },
  {
   "cell_type": "code",
   "execution_count": null,
   "id": "5a453c57-3ae0-4633-9282-1efc0e73a5eb",
   "metadata": {},
   "outputs": [],
   "source": []
  }
 ],
 "metadata": {
  "kernelspec": {
   "display_name": "Python 3 (ipykernel)",
   "language": "python",
   "name": "python3"
  },
  "language_info": {
   "codemirror_mode": {
    "name": "ipython",
    "version": 3
   },
   "file_extension": ".py",
   "mimetype": "text/x-python",
   "name": "python",
   "nbconvert_exporter": "python",
   "pygments_lexer": "ipython3",
   "version": "3.10.9"
  }
 },
 "nbformat": 4,
 "nbformat_minor": 5
}
